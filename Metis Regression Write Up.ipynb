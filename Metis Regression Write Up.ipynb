{
 "cells": [
  {
   "cell_type": "markdown",
   "id": "5f8565d1",
   "metadata": {},
   "source": [
    "# Abstract\n"
   ]
  },
  {
   "cell_type": "raw",
   "id": "40dfe098",
   "metadata": {},
   "source": [
    "The goal of this project was to use web scraping and regression techniques to execute an exploratory data analysis of MTA turnstile data in order to help inform the client on the predictive power of Gender Diversity in production and acting roles on Box Office Domestic Success.  I used Webscaping from Box Office Mojo merged with another GitHub users collection of data sets on gender diversity to accomplish this analytic \n"
   ]
  },
  {
   "cell_type": "markdown",
   "id": "be667475",
   "metadata": {},
   "source": [
    "# Design"
   ]
  },
  {
   "cell_type": "raw",
   "id": "7f284415",
   "metadata": {},
   "source": [
    "This project idea originated from Metis curriculum as a part of the Regression module. The project as executed is inspired by the above email suggesting that the Academy is looking to begin reactionary action following the “Oscars So White Controversy” because of the relative lack of RAcial and Ethnic Diversity Data, the Academy is fine with beginning with Gender as a proof case. This Analysis is created with the goal of not *Necessarily* predicting Box Office Outcome, but using the process to highlight statistically significant drivers of Box Office Success\n"
   ]
  },
  {
   "cell_type": "markdown",
   "id": "7f1f00f7",
   "metadata": {},
   "source": [
    "# Data"
   ]
  },
  {
   "cell_type": "raw",
   "id": "b2bbebf2",
   "metadata": {},
   "source": [
    "The datasets once connected and cleaned using python contained 25 characteristics (variables) with 1503 rows of data. Some points of interest here were the techniques needed to extract and clean the data for “Length of time in theaters” ,  the number of theaters each film was released to, as well as finding the top billed Actor, Producer, Writer, and director. An in depth analysis of all of these characteristics was needed to carry out this project and additional variables were created with these existing data as the base (Including Dummy Variables for the presence of a female Actor, Director, Producer, and or Writer)"
   ]
  },
  {
   "cell_type": "markdown",
   "id": "141a30a9",
   "metadata": {},
   "source": [
    "# Algorithms"
   ]
  }
 ],
 "metadata": {
  "kernelspec": {
   "display_name": "Python 3",
   "language": "python",
   "name": "python3"
  },
  "language_info": {
   "codemirror_mode": {
    "name": "ipython",
    "version": 3
   },
   "file_extension": ".py",
   "mimetype": "text/x-python",
   "name": "python",
   "nbconvert_exporter": "python",
   "pygments_lexer": "ipython3",
   "version": "3.8.8"
  }
 },
 "nbformat": 4,
 "nbformat_minor": 5
}
